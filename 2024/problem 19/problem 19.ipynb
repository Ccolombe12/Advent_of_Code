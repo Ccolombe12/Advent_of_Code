{
 "cells": [
  {
   "cell_type": "code",
   "execution_count": 17,
   "metadata": {},
   "outputs": [
    {
     "name": "stdout",
     "output_type": "stream",
     "text": [
      "Of the towels it is possible to make 236 of them\n"
     ]
    }
   ],
   "source": [
    "import sys\n",
    "import os\n",
    "path_to_AOC_helpers = \"/Users/connor/Desktop/Coding Problems/Advent_of_code/2024/AOC_helpers.py\"\n",
    "# Add the parent directory to the sys.path\n",
    "sys.path.append(os.path.abspath(path_to_AOC_helpers))\n",
    "from collections import defaultdict, deque, Counter, namedtuple\n",
    "from functools import reduce, cache, cmp_to_key\n",
    "from heapq import heappush, heappop, heapify\n",
    "from itertools import permutations, combinations, product\n",
    "from math import gcd, sqrt, factorial, ceil, floor\n",
    "from sortedcontainers import SortedDict, SortedList, SortedSet\n",
    "from typing import TypeAlias\n",
    "from math import prod\n",
    "import re\n",
    "import numpy as np\n",
    "import sys\n",
    "import pyomo.environ as pymo\n",
    "import pyomo.opt as pyopt\n",
    "from AOC_helpers import *\n",
    "sys.setrecursionlimit(10000)\n",
    "\n",
    "input_file = 'input.txt'\n",
    "test_file = 'test.txt'\n",
    "\n",
    "with open(input_file, 'r') as file:\n",
    "    lines = file.readlines()\n",
    "    \n",
    "    blocks = get_blocks(lines)\n",
    "    patterns = [p.strip() for p in blocks[0][0].split(',')]\n",
    "    goal_towels = [towel.strip() for towel in blocks[-1]]\n",
    "   \n",
    "    \n",
    "# idea is to scan though towel and ask if the the current prefix of towel is in\n",
    "# strips, then recurse but also keep going\n",
    "def can_make(towel:str, strips:set[str]):\n",
    "    \"\"\"Return True if we can make towel out of the current strips\"\"\"\n",
    "    if not towel:\n",
    "        return True \n",
    "    n = len(towel)\n",
    "    for i in range(n):\n",
    "        if towel[:i + 1] in strips:\n",
    "            if can_make(towel[i + 1:], strips):\n",
    "                return True \n",
    "    return False \n",
    "\n",
    "patterns = set(patterns)\n",
    "count = 0\n",
    "good_towels = []\n",
    "for towel in goal_towels:\n",
    "    makeable = can_make(towel, patterns)\n",
    "    if makeable:\n",
    "        count += 1\n",
    "        good_towels.append(towel)\n",
    "        \n",
    "print(f'Of the towels it is possible to make {count} of them')\n",
    "    "
   ]
  },
  {
   "cell_type": "code",
   "execution_count": 13,
   "metadata": {},
   "outputs": [],
   "source": [
    "# Now for each good towel, we want to count the number of ways to get the pattern\n",
    "@cache\n",
    "def count_make(towel:str, strips:set[str]) -> int:\n",
    "    \"\"\"Return the number of ways to make towel from the strips \"\"\"\n",
    "    if not towel:\n",
    "        return 1\n",
    "    n = len(towel)\n",
    "    count = 0\n",
    "    for i in range(n):\n",
    "        if towel[:i + 1] in strips:\n",
    "            count += count_make(towel[i + 1:], strips)\n",
    "    return count \n",
    "    "
   ]
  },
  {
   "cell_type": "code",
   "execution_count": 16,
   "metadata": {},
   "outputs": [
    {
     "name": "stdout",
     "output_type": "stream",
     "text": [
      "We can find a total of 643685981770598 ways to make a towel\n"
     ]
    }
   ],
   "source": [
    "patterns = set(patterns)\n",
    "count = 0\n",
    "patterns = frozenset(patterns)\n",
    "for towel in good_towels:\n",
    "    total = count_make(towel, patterns)\n",
    "    count += total\n",
    "print(f'We can find a total of {count} ways to make a towel')"
   ]
  },
  {
   "cell_type": "code",
   "execution_count": null,
   "metadata": {},
   "outputs": [],
   "source": []
  }
 ],
 "metadata": {
  "kernelspec": {
   "display_name": "coding_problem_env",
   "language": "python",
   "name": "python3"
  },
  "language_info": {
   "codemirror_mode": {
    "name": "ipython",
    "version": 3
   },
   "file_extension": ".py",
   "mimetype": "text/x-python",
   "name": "python",
   "nbconvert_exporter": "python",
   "pygments_lexer": "ipython3",
   "version": "3.12.2"
  }
 },
 "nbformat": 4,
 "nbformat_minor": 2
}
