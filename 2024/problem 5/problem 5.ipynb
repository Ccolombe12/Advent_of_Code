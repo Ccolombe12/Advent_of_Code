{
 "cells": [
  {
   "cell_type": "markdown",
   "metadata": {},
   "source": [
    "# PS\n"
   ]
  },
  {
   "cell_type": "code",
   "execution_count": null,
   "metadata": {},
   "outputs": [
    {
     "name": "stdout",
     "output_type": "stream",
     "text": [
      "143\n"
     ]
    }
   ],
   "source": [
    "# Open the file\n",
    "input_file = 'input.txt'\n",
    "test_file = 'test.txt'\n",
    "from collections import defaultdict\n",
    "# how do we build the dependency graph? Get a topological sort for the ordering \n",
    "\n",
    "with open(test_file, 'r') as file:\n",
    "    lines = file.readlines()\n",
    "    line = lines[0]\n",
    "    i = 0\n",
    "    num_lines = len(lines)\n",
    "    \n",
    "    # Build an ordering graph.\n",
    "    nodes = set()\n",
    "    adj_list = defaultdict(list)\n",
    "    in_degrees = defaultdict(int)\n",
    "    \n",
    "    while i < num_lines and line:\n",
    "        # process the ordering inputs\n",
    "        line = lines[i].strip()\n",
    "        if line == '':\n",
    "            i += 1\n",
    "            break\n",
    "        nums = line.split('|')\n",
    "        \n",
    "        x, y = [int(num) for num in nums]\n",
    "        nodes.add(x)\n",
    "        nodes.add(y)\n",
    "        adj_list[x].append(y)\n",
    "        in_degrees[y] += 1\n",
    "        i += 1\n",
    "        \n",
    "    # now process the updates\n",
    "    updates  = []\n",
    "    for line in lines[i:]:\n",
    "        nums = [int(num) for num in line.strip().split(',')]\n",
    "        for x in nums:\n",
    "            nodes.add(x)\n",
    "        updates.append(nums)\n",
    "        i += 1\n",
    "\n",
    "\n",
    "        \n",
    "def check_updates(update):\n",
    "    for i, x in enumerate(update):\n",
    "        for j, y in enumerate(update[i + 1:]):\n",
    "            if x in adj_list[y]:\n",
    "                return -1\n",
    "    n = len(update)\n",
    "    return update[n // 2]\n",
    "\n",
    "def solution1(updates):\n",
    "    S1 = 0\n",
    "    for update in updates:\n",
    "        res = check_updates(update)\n",
    "        if res >= 0:\n",
    "            S1 += res\n",
    "    return S1\n",
    "\n",
    "print(solution1(updates))\n",
    "\n",
    "\n",
    "    \n",
    "        \n",
    "        \n",
    "\n",
    "        "
   ]
  },
  {
   "cell_type": "markdown",
   "metadata": {},
   "source": [
    "# PS 2\n"
   ]
  },
  {
   "cell_type": "code",
   "execution_count": null,
   "metadata": {},
   "outputs": [
    {
     "name": "stdout",
     "output_type": "stream",
     "text": [
      "123\n"
     ]
    }
   ],
   "source": [
    "\n",
    "def toposort(nodes, adj_list, in_degrees):\n",
    "    \"\"\"Toposort the graph and return the ordering\"\"\"\n",
    "    ordering = []\n",
    "    stack = []\n",
    "    for node in nodes:\n",
    "        if in_degrees[node] == 0:\n",
    "            stack.append(node)\n",
    "            \n",
    "    while stack:\n",
    "        node = stack.pop()\n",
    "        ordering.append(node)\n",
    "        for x in adj_list[node]:\n",
    "            in_degrees[x] -= 1\n",
    "            if in_degrees[x] == 0:\n",
    "                stack.append(x)\n",
    "\n",
    "    return ordering\n",
    "\n",
    "def solution2(updates):\n",
    "    S2 = 0\n",
    "    for update in updates:\n",
    "        # build a new graph on the nodes in update\n",
    "        tmp_adj_list = defaultdict(list)\n",
    "        tmp_nodes = set()\n",
    "        tmp_in_degrees = defaultdict(int)\n",
    "        for x in update:\n",
    "            tmp_nodes.add(x)\n",
    "            for y in adj_list[x]:\n",
    "                if y not in update:\n",
    "                    continue\n",
    "                tmp_adj_list[x].append(y)\n",
    "                tmp_in_degrees[y] += 1\n",
    "        # determine their proper ordering\n",
    "        tmp_ordering = toposort(tmp_nodes, tmp_adj_list, tmp_in_degrees)\n",
    "        # only count if the ordering is different from the update\n",
    "        if update != tmp_ordering: \n",
    "            n = len(update)\n",
    "            S2 += tmp_ordering[n // 2]\n",
    "\n",
    "    return S2\n",
    "\n",
    "print(solution2(updates))\n"
   ]
  },
  {
   "cell_type": "code",
   "execution_count": null,
   "metadata": {},
   "outputs": [],
   "source": []
  },
  {
   "cell_type": "code",
   "execution_count": null,
   "metadata": {},
   "outputs": [],
   "source": []
  }
 ],
 "metadata": {
  "kernelspec": {
   "display_name": "coding_problem_env",
   "language": "python",
   "name": "python3"
  },
  "language_info": {
   "codemirror_mode": {
    "name": "ipython",
    "version": 3
   },
   "file_extension": ".py",
   "mimetype": "text/x-python",
   "name": "python",
   "nbconvert_exporter": "python",
   "pygments_lexer": "ipython3",
   "version": "3.12.2"
  }
 },
 "nbformat": 4,
 "nbformat_minor": 2
}
