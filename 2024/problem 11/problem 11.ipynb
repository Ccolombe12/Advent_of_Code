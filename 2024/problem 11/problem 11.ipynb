{
 "cells": [
  {
   "cell_type": "code",
   "execution_count": null,
   "metadata": {},
   "outputs": [
    {
     "name": "stdout",
     "output_type": "stream",
     "text": [
      "The solution to part 1 is: 217443\n",
      "The solution to part 2 is: 257246536026785\n"
     ]
    }
   ],
   "source": [
    "# Open the file\n",
    "from collections import defaultdict, deque, Counter, namedtuple\n",
    "from functools import reduce, cache, cmp_to_key\n",
    "from heapq import heappush, heappop, heapify\n",
    "from itertools import permutations, combinations, product\n",
    "from math import gcd, sqrt, factorial, ceil, floor\n",
    "from sortedcontainers import SortedDict, SortedList, SortedSet\n",
    "from pyrival import * # python competitive programming library\n",
    "import re\n",
    "import sys\n",
    "sys.setrecursionlimit(10000)\n",
    "def scan_nums(line):\n",
    "    # Use a regular expression to find numbers\n",
    "    numbers = re.findall(r'-?\\d+\\.?\\d*', line)\n",
    "    # Convert to appropriate numerical types\n",
    "    numbers = [float(num) if '.' in num else int(num) for num in numbers]\n",
    "    return numbers\n",
    "\n",
    "input_file = 'input.txt'\n",
    "test_file = 'test.txt'\n",
    "\n",
    "with open(input_file, 'r') as file:\n",
    "    lines  = file.readlines()\n",
    "    nums = scan_nums(lines[0])\n",
    "\n",
    "def rule(x):\n",
    "    \"\"\"Transforms the stone with x on it according to the rules. \"\"\"\n",
    "    if x == 0:\n",
    "        return 1, None\n",
    "    if len(str(x)) % 2 == 0:\n",
    "        s = str(x)\n",
    "        n = len(s)\n",
    "        return int(s[:n//2]), int(s[n//2:])\n",
    "    else:\n",
    "        return 2024 * x , None\n",
    "\n",
    "def smart_evolve(nums, k):\n",
    "    \"\"\"Key is to note that on a given day we have tons of stones with the \n",
    "    same number so we can group them to save tons of time and space.\"\"\"\n",
    "    counts = Counter(nums)\n",
    "    \n",
    "    for _ in range(k):\n",
    "        vals = list(counts.keys())\n",
    "        new_counts = defaultdict(int)\n",
    "        for x in vals:\n",
    "            appearances = counts[x]\n",
    "            a, b = rule(x)\n",
    "            new_counts[a] += appearances\n",
    "            if b is not None:\n",
    "                new_counts[b] += appearances\n",
    "        counts = new_counts\n",
    "   \n",
    "    total_stones = sum(counts.values())\n",
    "    return total_stones\n",
    "\n",
    "ans1 = smart_evolve(nums, 25)\n",
    "ans2 = smart_evolve(nums, 75)\n",
    "\n",
    "print(f'The solution to part 1 is: {ans1}')\n",
    "print(f'The solution to part 2 is: {ans2}')            "
   ]
  },
  {
   "cell_type": "code",
   "execution_count": null,
   "metadata": {},
   "outputs": [],
   "source": [
    "@cache\n",
    "def f(n, k):\n",
    "    if k == 0: return 1\n",
    "    if n == 0: return f(1, k - 1)\n",
    "    s = str(n)\n",
    "    n = len(s)\n",
    "    if n % 2 == 0:\n",
    "        left_num = int(s[:n // 2])\n",
    "        right_num = int(s[n // 2:])\n",
    "        return f(left_num, k - 1) + f(right_num, k - 1)\n",
    "    else:\n",
    "        return f(2024 * n, k - 1)\n",
    "# this also works.\n",
    "s = dp_evolve(nums, 75)"
   ]
  }
 ],
 "metadata": {
  "kernelspec": {
   "display_name": "coding_problem_env",
   "language": "python",
   "name": "python3"
  },
  "language_info": {
   "codemirror_mode": {
    "name": "ipython",
    "version": 3
   },
   "file_extension": ".py",
   "mimetype": "text/x-python",
   "name": "python",
   "nbconvert_exporter": "python",
   "pygments_lexer": "ipython3",
   "version": "3.12.2"
  }
 },
 "nbformat": 4,
 "nbformat_minor": 2
}
