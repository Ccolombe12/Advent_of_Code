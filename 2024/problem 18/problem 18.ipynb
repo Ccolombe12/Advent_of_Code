{
 "cells": [
  {
   "cell_type": "code",
   "execution_count": 31,
   "metadata": {},
   "outputs": [
    {
     "name": "stdout",
     "output_type": "stream",
     "text": [
      "After 1024 bytes fall, the shortest path takes t = 226 nanoseconds\n"
     ]
    }
   ],
   "source": [
    "from collections import defaultdict, deque, Counter, namedtuple\n",
    "from functools import reduce, cache, cmp_to_key\n",
    "from heapq import heappush, heappop, heapify\n",
    "from itertools import permutations, combinations, product\n",
    "from math import gcd, sqrt, factorial, ceil, floor\n",
    "from sortedcontainers import SortedDict, SortedList, SortedSet\n",
    "#import PyRival\n",
    "from typing import TypeAlias\n",
    "from math import prod\n",
    "import re\n",
    "import numpy as np\n",
    "import sys\n",
    "import pyomo.environ as pymo\n",
    "import pyomo.opt as pyopt\n",
    "from AOC_helpers import *\n",
    "sys.setrecursionlimit(10000)\n",
    "\n",
    "input_file = 'input.txt'\n",
    "test_file = 'test.txt'\n",
    "\n",
    "with open(input_file, 'r') as file:\n",
    "    lines = file.readlines()\n",
    "    bytes = {}\n",
    "    for i, line in enumerate(lines):\n",
    "        bytes[i] = scan_nums(line)\n",
    "\n",
    "    \n",
    "# rows and columns for test and input cases respectively \n",
    "#R, C = 7, 7\n",
    "R, C = 71, 71 \n",
    "\n",
    "def gen_grid(R,C, T, byte_locs):\n",
    "    grid = [['.'] * C for _ in range(R)]\n",
    "    for t in range(T):\n",
    "        c, r = byte_locs[t]\n",
    "        grid[r][c] = '#'\n",
    "    return grid \n",
    "\n",
    "\n",
    "directions = [(0, 1), (-1, 0), (1,0), (0, -1)]\n",
    "# Simple BFs after placing down the obstacles \n",
    "def bfs(grid, goal):\n",
    "    R, C = len(grid), len(grid[0])\n",
    "    r_g, c_g = goal\n",
    "    r, c = 0, 0\n",
    "    visited = set()\n",
    "    q = deque()\n",
    "    q.append([0, 0, 0])\n",
    "    while q:\n",
    "        d, r, c = q.popleft()\n",
    "        cur_loc = (r, c)\n",
    "        if cur_loc in visited: \n",
    "            continue\n",
    "        visited.add(cur_loc)\n",
    "        if (r_g, c_g) == cur_loc:\n",
    "            return d \n",
    "        for dr, dc in directions:\n",
    "            nr, nc = r + dr , c + dc \n",
    "            if 0 <= nr < R and 0 <= nc < C and  grid[nr][nc] != '#':\n",
    "                q.append((d + 1, nr, nc))\n",
    "    print(f'no path')\n",
    "    return - 1\n",
    "    \n",
    "grid = gen_grid(R, C, 1024, bytes)\n",
    "t = bfs(grid, (R - 1, C - 1))\n",
    "print(f'After 1024 bytes fall, the shortest path takes {t = } nanoseconds')\n"
   ]
  },
  {
   "cell_type": "code",
   "execution_count": 28,
   "metadata": {},
   "outputs": [
    {
     "name": "stdout",
     "output_type": "stream",
     "text": [
      "It will take until time t = 2861 for the path to be blocked. This is at location [60, 46]\n"
     ]
    }
   ],
   "source": [
    "# now its binary search the answer. \n",
    "def reachable(R, C, T, byte_locs):\n",
    "    # try the slow way first. Can speed up by placing all obstacles.\n",
    "    grid = gen_grid(R,C, T, byte_locs) \n",
    "    r_g, c_g = R - 1, C - 1\n",
    "    r, c = 0, 0\n",
    "    visited = set()\n",
    "    q = deque()\n",
    "    q.append([0, 0])\n",
    "    while q:\n",
    "        r, c = q.popleft()\n",
    "        cur_loc = (r, c)\n",
    "        if cur_loc in visited: continue\n",
    "        visited.add(cur_loc)\n",
    "        if (r_g, c_g) == cur_loc:\n",
    "            return True \n",
    "        for dr, dc in directions:\n",
    "            nr, nc = r + dr , c + dc \n",
    "            if 0 <= nr < R and 0 <= nc < C and  grid[nr][nc] != '#':\n",
    "                q.append([nr, nc])\n",
    "    return False \n",
    "\n",
    "# Binary search the answer \n",
    "max_T = len(bytes)\n",
    "lo, hi = 0, max_T\n",
    "\n",
    "while lo <= hi:\n",
    "    mid = (lo + hi)//2\n",
    "    if reachable(R, C, mid, bytes):\n",
    "        lo = mid + 1\n",
    "    else:\n",
    "        hi = mid - 1\n",
    "t  = lo - 1\n",
    "print(f'It will take until time {t = } for the path to be blocked. This is at location {bytes[t]}')\n",
    "\n",
    "    "
   ]
  },
  {
   "cell_type": "code",
   "execution_count": null,
   "metadata": {},
   "outputs": [],
   "source": []
  }
 ],
 "metadata": {
  "kernelspec": {
   "display_name": "coding_problem_env",
   "language": "python",
   "name": "python3"
  },
  "language_info": {
   "codemirror_mode": {
    "name": "ipython",
    "version": 3
   },
   "file_extension": ".py",
   "mimetype": "text/x-python",
   "name": "python",
   "nbconvert_exporter": "python",
   "pygments_lexer": "ipython3",
   "version": "3.12.2"
  }
 },
 "nbformat": 4,
 "nbformat_minor": 2
}
