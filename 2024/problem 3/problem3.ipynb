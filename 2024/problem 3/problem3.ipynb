{
 "cells": [
  {
   "cell_type": "markdown",
   "metadata": {},
   "source": [
    "# PS\n",
    "\n",
    "## Day 3: Mull It Over\n",
    "\n",
    "---\n",
    "\n",
    "\"Our computers are having issues, so I have no idea if we have any Chief Historians in stock! You're welcome to check the warehouse, though,\" says the mildly flustered shopkeeper at the North Pole Toboggan Rental Shop. The Historians head out to take a look.\n",
    "\n",
    "The shopkeeper turns to you. \"Any chance you can see why our computers are having issues again?\"\n",
    "\n",
    "The computer appears to be trying to run a program, but its memory (your puzzle input) is corrupted. All of the instructions have been jumbled up!\n",
    "\n",
    "It seems like the goal of the program is just to multiply some numbers. It does that with instructions like `mul(X,Y)`, where `X` and `Y` are each 1-3 digit numbers. For instance, `mul(44,46)` multiplies 44 by 46 to get a result of 2024. Similarly, `mul(123,4)` would multiply `123` by `4`.\n",
    "\n",
    "However, because the program's memory has been corrupted, there are also many invalid characters that should be ignored, even if they look like part of a mul instruction. Sequences like mul(4\\*, mul(6,9!, ?(12,34), or mul ( 2 , 4 ) do nothing.\n",
    "\n",
    "For example, consider the following section of corrupted memory:\n",
    "\n",
    "`xmul(2,4)%&mul[3,7]!@^do_not_mul(5,5)+mul(32,64]then(mul(11,8)mul(8,5))`\n",
    "\n",
    "Only the four highlighted sections are real mul instructions. Adding up the result of each instruction produces 161 (2*4 + 5*5 + 11*8 + 8*5).\n",
    "\n",
    "Scan the corrupted memory for uncorrupted mul instructions. What do you get if you add up all of the results of the multiplications?\n",
    "\n",
    "Your puzzle answer was `175015740`.\n"
   ]
  },
  {
   "cell_type": "code",
   "execution_count": null,
   "metadata": {},
   "outputs": [
    {
     "name": "stdout",
     "output_type": "stream",
     "text": [
      "175015740\n"
     ]
    }
   ],
   "source": [
    "# Open the file\n",
    "input_file = 'input.txt'\n",
    "test_file = 'test.txt'\n",
    "\n",
    "\n",
    "def is_number(s):\n",
    "    \"\"\" check if s is a number \"\"\"\"\"\n",
    "    try:\n",
    "        int(s)\n",
    "        return True\n",
    "    except ValueError:\n",
    "        return False\n",
    "    \n",
    "def check(idx, s):\n",
    "    \"\"\" compute result if we started at idx in s \"\"\"\n",
    "    if len(s[idx:]) < 8:\n",
    "        return 0\n",
    "    if s[idx:idx+4] == 'mul(':\n",
    "        i = idx + 4\n",
    "        # go until hit would be end or get too long\n",
    "        while i < len(s) and i - idx < 15 and s[i] != ')':\n",
    "            i += 1\n",
    "        # if too long, return\n",
    "        if i == len(s) or s[i] != ')':\n",
    "            return 0\n",
    "        # check if we have two numbers to multiply\n",
    "        rest = s[idx + 4:i]    \n",
    "        nums = rest.split(',')\n",
    "        if len(nums) == 2 and is_number(nums[0]) and is_number(nums[1]):\n",
    "            x = int(nums[0])\n",
    "            y = int(nums[1])\n",
    "            return x * y\n",
    "    return 0\n",
    "                \n",
    "        \n",
    "        \n",
    "result1  = 0\n",
    "with open(input_file, 'r') as file:\n",
    "    for line in file:\n",
    "        for idx in range(len(line)):\n",
    "            result1 += check(idx, line)\n",
    "    print(result1)\n"
   ]
  },
  {
   "cell_type": "markdown",
   "metadata": {},
   "source": [
    "# PS\n",
    "\n",
    "## Part 2:\n",
    "\n",
    "---\n",
    "\n",
    "As you scan through the corrupted memory, you notice that some of the conditional statements are also still intact. If you handle some of the uncorrupted conditional statements in the program, you might be able to get an even more accurate result.\n",
    "\n",
    "There are two new instructions you'll need to handle:\n",
    "\n",
    "The `do()` instruction **enables** future mul instructions.\n",
    "The `don't()` instruction **disables** future mul instructions.\n",
    "Only the most recent `do()` or `don't()` instruction applies. At the beginning of the program, `mul` instructions are enabled.\n",
    "\n",
    "For example:\n",
    "\n",
    "`xmul(2,4)&mul[3,7]!^don't()_mul(5,5)+mul(32,64](mul(11,8)undo()?mul(8,5))`\n",
    "\n",
    "This corrupted memory is similar to the example from before, but this time the `mul(5,5)` and `mul(11,8)` instructions are disabled because there is a `don't()` instruction before them. The other `mul` instructions function normally, including the one at the end that gets re-enabled by a `do()` instruction.\n",
    "\n",
    "This time, the sum of the results is 48 (2*4 + 8*5).\n",
    "\n",
    "Handle the new instructions; what do you get if you add up all of the results of just the enabled multiplications?\n",
    "\n",
    "Your puzzle answer was `112272912`.\n"
   ]
  },
  {
   "cell_type": "code",
   "execution_count": null,
   "metadata": {},
   "outputs": [
    {
     "name": "stdout",
     "output_type": "stream",
     "text": [
      "112272912\n"
     ]
    }
   ],
   "source": [
    "do = True \n",
    "def check2(idx, s):\n",
    "    \"\"\"Same as check1 but we turn on and off do as we go\"\"\"\n",
    "    global do\n",
    "    # too small to check\n",
    "    if len(s[idx:]) < 4:\n",
    "        return 0\n",
    "    # if at start of do, turn on and continue\n",
    "    if s[idx:idx+4] == 'do()':\n",
    "        do = True\n",
    "        return 0\n",
    "    if not do:\n",
    "        return 0\n",
    "    elif s[idx:idx+7] == \"don't()\":\n",
    "        do = False\n",
    "        return 0\n",
    "    # otherwise proceed as normal\n",
    "    return check(idx, s)\n",
    "                \n",
    "        \n",
    "        \n",
    "result2 = 0\n",
    "with open(input_file, 'r') as file:\n",
    "    for line in file:\n",
    "        for idx in range(len(line)):\n",
    "            result2 += check2(idx, line)\n",
    "            \n",
    "    print(result2)"
   ]
  },
  {
   "cell_type": "code",
   "execution_count": null,
   "metadata": {},
   "outputs": [],
   "source": []
  }
 ],
 "metadata": {
  "kernelspec": {
   "display_name": "coding_problem_env",
   "language": "python",
   "name": "python3"
  },
  "language_info": {
   "codemirror_mode": {
    "name": "ipython",
    "version": 3
   },
   "file_extension": ".py",
   "mimetype": "text/x-python",
   "name": "python",
   "nbconvert_exporter": "python",
   "pygments_lexer": "ipython3",
   "version": "3.12.2"
  }
 },
 "nbformat": 4,
 "nbformat_minor": 2
}
