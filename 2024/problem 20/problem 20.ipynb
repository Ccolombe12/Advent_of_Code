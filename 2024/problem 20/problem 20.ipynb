{
 "cells": [
  {
   "cell_type": "code",
   "execution_count": 102,
   "metadata": {},
   "outputs": [],
   "source": [
    "import sys\n",
    "import os\n",
    "from bisect import bisect_left\n",
    "path_to_AOC_helpers = \"/Users/connor/Desktop/Coding Problems/Advent_of_code/2024\"\n",
    "# Add the parent directory to the sys.path\n",
    "sys.path.append(os.path.abspath(path_to_AOC_helpers))\n",
    "from collections import defaultdict, deque, Counter, namedtuple\n",
    "from functools import reduce, cache, cmp_to_key\n",
    "from heapq import heappush, heappop, heapify\n",
    "from itertools import permutations, combinations, product\n",
    "from math import gcd, sqrt, factorial, ceil, floor\n",
    "from sortedcontainers import SortedDict, SortedList, SortedSet\n",
    "\n",
    "from copy import deepcopy\n",
    "from math import prod\n",
    "import re\n",
    "import numpy as np\n",
    "import sys\n",
    "import pyomo.environ as pymo\n",
    "import pyomo.opt as pyopt\n",
    "from AOC_helpers import *\n",
    "sys.setrecursionlimit(10000)\n",
    "\n",
    "input_file = 'input.txt'\n",
    "test_file = 'test.txt'\n",
    "\n",
    "# Get our problem input \n",
    "with open(input_file, 'r') as file:\n",
    "    lines = file.readlines()\n",
    "    grid = [ row.strip() for row in lines] \n",
    "    R, C = len(grid), len(grid[0])"
   ]
  },
  {
   "cell_type": "code",
   "execution_count": 103,
   "metadata": {},
   "outputs": [],
   "source": [
    "directions = [(0,1), (0, -1), (1, 0), (-1, 0)]\n",
    "inf = float('inf')\n",
    "# first, get distance from position on path to end \n",
    "\n",
    "def get_endpoints(grid):\n",
    "    \"\"\"Returns the start and end points of the race\"\"\"\n",
    "    start = None\n",
    "    end = None \n",
    "    # just loop over grid and update references\n",
    "    for r in range(R):\n",
    "        for c in range(C):\n",
    "            if grid[r][c] == 'S':\n",
    "                start = (r, c) \n",
    "            elif grid[r][c] == 'E':\n",
    "                end = r, c\n",
    "    return start, end \n",
    "\n",
    "def get_distances(grid, end):\n",
    "    \"\"\"Return's the distances for each path on the racetrack\n",
    "    Do a simple BFS with distance. \"\"\"\n",
    "    # \n",
    "    distances = defaultdict(lambda : inf)\n",
    "    q = deque([(end, 0)])\n",
    "    visited = set()\n",
    "    while q:\n",
    "        pos, d = q.popleft()\n",
    "        if pos in visited:\n",
    "            continue\n",
    "        visited.add(pos)\n",
    "        r, c = pos\n",
    "        distances[(r, c)] = d\n",
    "        for dr, dc in directions:\n",
    "            nr, nc = r + dr, c + dc \n",
    "            if (nr, nc) not in visited and grid[nr][nc] != '#' :\n",
    "                q.append([(nr, nc), d + 1])\n",
    "    return distances\n",
    "\n",
    "# ok now, we need to consider all 2D paths of length at most around a given point that save time. \n",
    "# Now it can leave the path and come back on and leave again as long is cheat is active and the total length is at most 20.\n",
    "\n",
    "# so how can we do this? \n",
    "# well, for each cheat, we start on the path and end on the path, These are just two points\n",
    "# so consider all the path pairs that would have a saved distance of 20 or more. Find their manhattan distance. \n",
    "# If is is less than 20 then we can cheat to it somehow (otherwise would not be a saving)\n",
    "# Let's try to make the pairs the lazy way and see if it's fast enough \n",
    "\n",
    "def dist(pos1, pos2):\n",
    "    \"\"\"Manhattan distance between two points \"\"\"\n",
    "    r1, c1 = pos1\n",
    "    r2, c2 = pos2\n",
    "    return abs(r1 - r2) + abs(c1 - c2)\n",
    "\n",
    "def num_cheating_paths(distances, saving_threshold, cheat_duration):\n",
    "    \"\"\"Using the distances, return the number of cheating paths of max \n",
    "    length cheat_duration that save at least saving_threshold seconds. \"\"\"\n",
    "    total_saved = defaultdict(int)\n",
    "    distance_list = [(d, pos) for pos, d in distances.items()]\n",
    "    distance_list.sort()\n",
    "    n = len(distance_list)\n",
    "    for i in range(n):\n",
    "        d1, pos1 = distance_list[i]\n",
    "        j = bisect_left(distance_list, (d1 + saving_threshold - 1, (-1, -1)))\n",
    "        for k in range(j, n):\n",
    "            d2, pos2 = distance_list[k]\n",
    "            if dist(pos1, pos2) > cheat_duration: # too far away to cheat to \n",
    "                continue\n",
    "            saved = (d2 - d1) - dist(pos1, pos2)\n",
    "            if saved >= saving_threshold:\n",
    "                total_saved[saved] += 1\n",
    "\n",
    "    print(f'We found there are {sum(total_saved.values())} new paths\n",
    "          that save at least {saving_threshold} with max cheat duration {cheat_duration}')\n",
    "    return sum(total_saved.values())\n",
    "        "
   ]
  },
  {
   "cell_type": "code",
   "execution_count": 104,
   "metadata": {},
   "outputs": [
    {
     "name": "stdout",
     "output_type": "stream",
     "text": [
      "We found there are 1415 new paths that save at least 100 with max cheat duration 2\n",
      "We found there are 1022577 new paths that save at least 100 with max cheat duration 20\n"
     ]
    },
    {
     "data": {
      "text/plain": [
       "1022577"
      ]
     },
     "execution_count": 104,
     "metadata": {},
     "output_type": "execute_result"
    }
   ],
   "source": [
    "# Solve \n",
    "start, end = get_endpoints(grid)\n",
    "distances = get_distances(grid, end)\n",
    "num_cheating_paths(distances, 100, 2)\n",
    "num_cheating_paths(distances, 100, 20)"
   ]
  },
  {
   "cell_type": "code",
   "execution_count": 105,
   "metadata": {},
   "outputs": [],
   "source": [
    "# Intial solution to part 1 before adapting solution to part 1. \n",
    "\n",
    "# # now we have all the distances from end, we need them in distance  now we need to cheat \n",
    "# total_saved  = defaultdict(int)\n",
    "# threshold = 50\n",
    "# for r,c in distances.keys():\n",
    "#     for dr, dc in directions:\n",
    "#         nr, nc = r + 2 * dr, c + 2 * dc \n",
    "#         if (nr, nc) in distances and grid[r + dr][c + dc] == '#':\n",
    "#             d_1 = distances[(r, c)]\n",
    "#             d_2 = distances[(nr, nc)]\n",
    "#             saved = d_1 - d_2 - 2\n",
    "#             if saved > 0:\n",
    "#                 total_saved[saved] += 1\n",
    "# print(f'there are {total_saved} shortcuts that save {threshold} or more seconds')\n",
    "# print(f'Note that normal path has length of {distances[start]}')"
   ]
  }
 ],
 "metadata": {
  "kernelspec": {
   "display_name": "coding_problem_env",
   "language": "python",
   "name": "python3"
  },
  "language_info": {
   "codemirror_mode": {
    "name": "ipython",
    "version": 3
   },
   "file_extension": ".py",
   "mimetype": "text/x-python",
   "name": "python",
   "nbconvert_exporter": "python",
   "pygments_lexer": "ipython3",
   "version": "3.12.2"
  }
 },
 "nbformat": 4,
 "nbformat_minor": 2
}
