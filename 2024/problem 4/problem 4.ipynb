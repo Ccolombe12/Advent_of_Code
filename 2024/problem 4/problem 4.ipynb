{
 "cells": [
  {
   "cell_type": "markdown",
   "metadata": {},
   "source": [
    "\n",
    "# Day 4: Ceres Search \n",
    "---\n",
    "\n",
    "\"Looks like the Chief's not here. Next!\" One of The Historians pulls out a device and pushes the only button on it. After a brief flash, you recognize the interior of the Ceres monitoring station!\n",
    "\n",
    "As the search for the Chief continues, a small Elf who lives on the station tugs on your shirt; she'd like to know if you could help her with her word search (your puzzle input). She only has to find one word: `XMAS`.\n",
    "\n",
    "This word search allows words to be horizontal, vertical, diagonal, written backwards, or even overlapping other words. It's a little unusual, though, as you don't merely need to find one instance of XMAS - you need to find all of them. Here are a few ways `XMAS` might appear, where irrelevant characters have been replaced with .:\n",
    "\n",
    "\n",
    "    .X...\n",
    "    .SAMX.\n",
    "    .A..A.\n",
    "    XMAS.S\n",
    "    .X....\n",
    "\n",
    "The actual word search will be full of letters instead. For example:\n",
    "\n",
    "    MMMSXXMASM\n",
    "    MSAMXMSMSA\n",
    "    AMXSXMAAMM\n",
    "    MSAMASMSMX\n",
    "    XMASAMXAMM\n",
    "    XXAMMXXAMA\n",
    "    SMSMSASXSS\n",
    "    SAXAMASAAA\n",
    "    MAMMMXMMMM\n",
    "    MXMXAXMASX\n",
    "    \n",
    "In this word search, `XMAS` occurs a total of 18 times; here's the same word search again, but where letters not involved in any `XMAS` have been replaced with .:\n",
    "\n",
    "    ....XXMAS.\n",
    "    .SAMXMS...\n",
    "    ...S..A...\n",
    "    ..A.A.MS.X\n",
    "    XMASAMX.MM\n",
    "    X.....XA.A\n",
    "    S.S.S.S.SS\n",
    "    .A.A.A.A.A\n",
    "    ..M.M.M.MM\n",
    "    .X.X.XMASX\n",
    "\n",
    "Take a look at the little Elf's word search. How many times does `XMAS` appear?\n",
    "\n",
    "Your puzzle answer was `2718`.\n",
    "\n",
    "\n"
   ]
  },
  {
   "cell_type": "code",
   "execution_count": null,
   "metadata": {},
   "outputs": [
    {
     "name": "stdout",
     "output_type": "stream",
     "text": [
      "2718\n"
     ]
    }
   ],
   "source": [
    "# Open the file\n",
    "input_file = 'input.txt'\n",
    "test_file = 'test.txt'\n",
    "\n",
    "\n",
    "target_word = 'XMAS'\n",
    "directions = [(-1, 0), (1, 0), (0, -1), (0, 1), (-1, -1), (-1, 1), (1, -1), (1, 1)]\n",
    "\n",
    "def search(board, r, c, dr, dc):\n",
    "    R, C  = len(board), len(board[0])\n",
    "    nr, nc  = r, c\n",
    "    for i in range(1, len(target_word)):\n",
    "        nr += dr\n",
    "        nc += dc\n",
    "        if 0 <= nr < R and 0 <= nc < C:\n",
    "            if board[nr][nc] != target_word[i]:\n",
    "                return False\n",
    "        else:\n",
    "            return False\n",
    "    return True\n",
    "\n",
    "# Read in the board\n",
    "with open(input_file, 'r') as file:\n",
    "    board = [[x for x in line.strip()] for line in file]\n",
    "\n",
    "# for each possible starting point, look in all the directions for XMAS\n",
    "solu1 = 0\n",
    "R = len(board)\n",
    "C = len(board[0])\n",
    "for r in range(R):\n",
    "    for c in range(C):\n",
    "        # search all directions\n",
    "        if board[r][c] == target_word[0]:\n",
    "            for dr, dc in directions:\n",
    "                if search(board, r, c, dr, dc):\n",
    "                    solu1 += 1\n",
    "print(solu1)\n",
    "            \n",
    "        \n",
    "       "
   ]
  },
  {
   "cell_type": "markdown",
   "metadata": {},
   "source": [
    "## Part Two \n",
    "---\n",
    "\n",
    "The Elf looks quizzically at you. Did you misunderstand the assignment?\n",
    "\n",
    "Looking for the instructions, you flip over the word search to find that this isn't actually an XMAS puzzle; it's an `X-MAS` puzzle in which you're supposed to find two `MAS` in the shape of an `X`. One way to achieve that is like this:\n",
    "\n",
    "    M.S\n",
    "    .A.\n",
    "    M.S\n",
    "Irrelevant characters have again been replaced with `.` in the above diagram. Within the `X`, each`MAS` can be written forwards or backwards.\n",
    "\n",
    "Here's the same example from before, but this time all of the X-MASes have been kept instead:\n",
    "\n",
    "    .M.S......\n",
    "    ..A..MSMS.\n",
    "    .M.S.MAA..\n",
    "    ..A.ASMSM.\n",
    "    .M.S.M....\n",
    "    ..........\n",
    "    S.S.S.S.S.\n",
    "    .A.A.A.A..\n",
    "    M.M.M.M.M.\n",
    "    ..........\n",
    "    \n",
    "In this example, an `X-MAS` appears `9` times.\n",
    "\n",
    "Flip the word search from the instructions back over to the word search side and try again. `How many times does an X-MAS appear?`\n",
    "\n",
    "Your puzzle answer was `2046`.\n",
    "\n"
   ]
  },
  {
   "cell_type": "code",
   "execution_count": null,
   "metadata": {},
   "outputs": [
    {
     "name": "stdout",
     "output_type": "stream",
     "text": [
      "2046\n"
     ]
    }
   ],
   "source": [
    "def search2(board, r, c):\n",
    "    \"\"\"\n",
    "    Given that an A is found at (r, c), search the \n",
    "    \"\"\"\n",
    "    R, C  = len(board), len(board[0])\n",
    "    nr, nc  = r, c\n",
    "    # must be in the middle of the board\n",
    "    if 1 <= nr < R - 1 and 1 <= nc < C - 1:\n",
    "        diag_up = set([board[nr - 1][nc - 1], board[nr + 1][nc + 1]])\n",
    "        diag_down = set([board[nr - 1][nc + 1], board[nr + 1][nc - 1]])\n",
    "        if diag_up == diag_down == {'M','S'}:\n",
    "            return  True\n",
    "    return False\n",
    "    \n",
    "solu2 = 0\n",
    "for r in range(R):\n",
    "    for c in range(C):\n",
    "        # search all directons\n",
    "        if board[r][c] == 'A':\n",
    "            solu2 += search2(board, r, c)\n",
    "print(solu2)\n",
    "            "
   ]
  },
  {
   "cell_type": "code",
   "execution_count": null,
   "metadata": {},
   "outputs": [],
   "source": []
  }
 ],
 "metadata": {
  "kernelspec": {
   "display_name": "coding_problem_env",
   "language": "python",
   "name": "python3"
  },
  "language_info": {
   "codemirror_mode": {
    "name": "ipython",
    "version": 3
   },
   "file_extension": ".py",
   "mimetype": "text/x-python",
   "name": "python",
   "nbconvert_exporter": "python",
   "pygments_lexer": "ipython3",
   "version": "3.12.2"
  }
 },
 "nbformat": 4,
 "nbformat_minor": 2
}
