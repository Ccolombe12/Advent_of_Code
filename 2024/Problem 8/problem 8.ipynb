{
 "cells": [
  {
   "cell_type": "code",
   "execution_count": null,
   "metadata": {},
   "outputs": [
    {
     "name": "stdout",
     "output_type": "stream",
     "text": [
      "263\n"
     ]
    }
   ],
   "source": [
    "# Open the file\n",
    "from collections import defaultdict, deque, Counter, namedtuple\n",
    "from functools import reduce, lru_cache, cmp_to_key\n",
    "from heapq import heappush, heappop, heapify\n",
    "from itertools import permutations, combinations, product\n",
    "from math import gcd, sqrt, factorial, ceil, floor\n",
    "from sortedcontainers import SortedDict, SortedList, SortedSet\n",
    "import re\n",
    "import sys\n",
    "sys.setrecursionlimit(10000)\n",
    "\n",
    "def scan_nums(line):\n",
    "    # Use a regular expression to find numbers\n",
    "    numbers = re.findall(r'-?\\d+\\.?\\d*', line)\n",
    "    # Convert to appropriate numerical types\n",
    "    numbers = [float(num) if '.' in num else int(num) for num in numbers]\n",
    "    return numbers\n",
    "\n",
    "input_file = 'input.txt'\n",
    "test_file = 'test.txt'\n",
    "\n",
    "with open(input_file, 'r') as file:\n",
    "    grid = [[x for x in line.strip()] for line in file]\n",
    "\n",
    "R = len(grid)\n",
    "C = len(grid[0])\n",
    "\n",
    "# now get all positions of towers\n",
    "type_locations = defaultdict(list)\n",
    "for r in range(R):\n",
    "    for c in range(C):\n",
    "        t = grid[r][c]\n",
    "        if t != '.':\n",
    "            type_locations[t].append((r, c))\n",
    "            \n",
    "# now go through all the types and try to add an antinode\n",
    "antinode_locations = set()\n",
    "for t in type_locations:\n",
    "    locations = type_locations[t]\n",
    "    for i in range(len(locations)):\n",
    "        for j in range(i + 1, len(locations)):\n",
    "            # get antinodes of these two.\n",
    "            r1, c1 = locations[i]\n",
    "            r2, c2 = locations[j]\n",
    "            dr = r2 - r1\n",
    "            dc = c2 - c1\n",
    "            for k in [-1, 1]:\n",
    "                nr = r1 + k * dr\n",
    "                nc = c1 + k * dc \n",
    "                if 0 <= nr < R and 0 <= nc < C:\n",
    "                    antinode_locations.add((nr, nc))\n",
    "\n",
    "print(len(antinode_locations))\n",
    "    \n",
    "    "
   ]
  },
  {
   "cell_type": "code",
   "execution_count": null,
   "metadata": {},
   "outputs": [
    {
     "name": "stdout",
     "output_type": "stream",
     "text": [
      "1017\n"
     ]
    }
   ],
   "source": [
    "with open(input_file, 'r') as file:\n",
    "    grid = [[x for x in line.strip()] for line in file]\n",
    "    \n",
    "R = len(grid)\n",
    "C = len(grid[0])\n",
    "# now get all positions of towers\n",
    "type_locations = defaultdict(list)\n",
    "for r in range(R):\n",
    "    for c in range(C):\n",
    "        t = grid[r][c]\n",
    "        if t != '.':\n",
    "            type_locations[t].append((r, c))\n",
    "# now go through all the types and try to add an antinode\n",
    "antinode_locations = set()\n",
    "for t in type_locations:\n",
    "    location = type_locations[t]\n",
    "    for i in range(len(location)):\n",
    "        for j in range(i + 1, len(location)):\n",
    "            # get  all antinodes of these two.\n",
    "            r1, c1 = location[i]\n",
    "            r2, c2 = location[j]\n",
    "            dr = r2 - r1\n",
    "            dc = c2 - c1\n",
    "            \n",
    "            # add in all the antinodes\n",
    "            M = max(R, C)\n",
    "            for k in range(-M, M):\n",
    "                ar = r1 + k * dr\n",
    "                ac = c1 + k * dc                \n",
    "                if 0 <= ar < R and 0 <= ac < C:\n",
    "                    antinode_locations.add((ar, ac))\n",
    "                    \n",
    "print(len(antinode_locations))\n"
   ]
  },
  {
   "cell_type": "code",
   "execution_count": null,
   "metadata": {},
   "outputs": [],
   "source": []
  },
  {
   "cell_type": "code",
   "execution_count": null,
   "metadata": {},
   "outputs": [],
   "source": []
  }
 ],
 "metadata": {
  "kernelspec": {
   "display_name": "coding_problem_env",
   "language": "python",
   "name": "python3"
  },
  "language_info": {
   "codemirror_mode": {
    "name": "ipython",
    "version": 3
   },
   "file_extension": ".py",
   "mimetype": "text/x-python",
   "name": "python",
   "nbconvert_exporter": "python",
   "pygments_lexer": "ipython3",
   "version": "3.12.2"
  }
 },
 "nbformat": 4,
 "nbformat_minor": 2
}
