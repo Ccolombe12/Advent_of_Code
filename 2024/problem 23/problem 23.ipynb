{
 "cells": [
  {
   "cell_type": "code",
   "execution_count": null,
   "metadata": {},
   "outputs": [
    {
     "name": "stdout",
     "output_type": "stream",
     "text": [
      "We can reduce the number of nodes to look at from 520 to 207\n",
      "There are 1163 triangles that have a potential historian\n"
     ]
    }
   ],
   "source": [
    "import sys\n",
    "import os\n",
    "from bisect import bisect_left\n",
    "path_to_AOC_helpers = \"/Users/connor/Desktop/Coding Problems/Advent_of_code/2024\"\n",
    "# Add the parent directory to the sys.path\n",
    "sys.path.append(os.path.abspath(path_to_AOC_helpers))\n",
    "from collections import defaultdict, deque, Counter, namedtuple\n",
    "from functools import reduce, cache, cmp_to_key\n",
    "from heapq import heappush, heappop, heapify\n",
    "from itertools import permutations, combinations, product\n",
    "from math import gcd, sqrt, factorial, ceil, floor\n",
    "from sortedcontainers import SortedDict, SortedList, SortedSet\n",
    "\n",
    "from copy import deepcopy\n",
    "from math import prod\n",
    "import re\n",
    "import numpy as np\n",
    "import sys\n",
    "import pyomo.environ as pymo\n",
    "import pyomo.opt as pyopt\n",
    "from AOC_helpers import *\n",
    "sys.setrecursionlimit(10000)\n",
    "\n",
    "input_file = 'input.txt'\n",
    "test_file = 'test.txt'\n",
    "\n",
    "with open(input_file, 'r') as file:\n",
    "    lines = file.readlines()\n",
    "    edges = [line.strip().split('-') for line in lines]\n",
    "\n",
    "\n",
    "# build the graph \n",
    "nodes = set()\n",
    "adj_list = defaultdict(set)\n",
    "for u, v in edges:\n",
    "    adj_list[u].add(v)\n",
    "    adj_list[v].add(u)\n",
    "    nodes.add(u)\n",
    "    nodes.add(v)\n",
    "    \n",
    "def starts_with(s, c):\n",
    "    \"\"\"Helper function that tells us if node starts with a given character\"\"\"\n",
    "    return s[0] == c\n",
    "\n",
    "# Since we looking only for sets that have a node starting with t in them\n",
    "# we can ignore all the nodes that both don't start with t or connect to a \n",
    "# node that starts with t \n",
    "\n",
    "good_nodes = set()\n",
    "for node in nodes: \n",
    "    if starts_with(node, 't') or any(starts_with(u, 't') for u in adj_list[node]):\n",
    "        good_nodes.add(node)\n",
    "\n",
    "# we can see this drastically reduces the search space \n",
    "print(f'We can reduce the number of nodes to look at from {len(nodes)} to {len(good_nodes)}')\n",
    "\n",
    "\n",
    "def check_triangle(n1, n2, n3):\n",
    "    \"\"\"Check if the three nodes form a triangle \"\"\"\n",
    "    return n2 in adj_list[n1] and n3 in adj_list[n1] and n2 in adj_list[n3]\n",
    "\n",
    "\n",
    "# collect all triangles that have a potential historan in them \n",
    "triangles = set()\n",
    "for n1, n2, n3 in combinations(good_nodes, 3):\n",
    "\n",
    "    if not any(starts_with(node, 't') for node in [n1, n2, n3]):\n",
    "        continue\n",
    "    if check_triangle(n1, n2, n3):\n",
    "        rep = tuple(sorted([n1, n2, n3]))\n",
    "        triangles.add(rep)\n",
    "\n",
    "total_triangles = len(triangles)\n",
    "print(f'There are {total_triangles} triangles that have a potential historian.')\n",
    "        \n",
    "\n",
    "    "
   ]
  },
  {
   "cell_type": "code",
   "execution_count": 59,
   "metadata": {},
   "outputs": [],
   "source": [
    "# Now we need to look for the largest clique in the graph. One naive way to do this\n",
    "# is to get a set of all triangles in the graph, check what max sized set of nodes\n",
    "# they all connect to  and then check if this set of nodes forms a clique. \n",
    "\n",
    "def check_clique(nodes, adj_list):\n",
    "    for node in nodes:\n",
    "        cur_neighbors = adj_list[node]\n",
    "        if len(cur_neighbors) < len(nodes) - 1:\n",
    "            return False\n",
    "        for u in nodes:\n",
    "            if u == node:\n",
    "                continue\n",
    "            if u not in cur_neighbors:\n",
    "                return False\n",
    "    return True \n",
    "\n",
    "def get_shared_neighbors(u, v, w):\n",
    "    shared_neighbors = adj_list[u] & adj_list[v] & adj_list[w]\n",
    "    return shared_neighbors    \n",
    "            \n"
   ]
  },
  {
   "cell_type": "markdown",
   "metadata": {},
   "source": []
  },
  {
   "cell_type": "code",
   "execution_count": 64,
   "metadata": {},
   "outputs": [
    {
     "name": "stdout",
     "output_type": "stream",
     "text": [
      "There are 11011 triangles in the overall graph\n"
     ]
    }
   ],
   "source": [
    "# Now get all triangles in the graph not just the historian ones.\n",
    "        \n",
    "# only 207 nodes start with t or connect to someone that starts with t. \n",
    "triangles = set()\n",
    "for n1, n2, n3 in combinations(nodes, 3):\n",
    "    if check_triangle(n1, n2, n3):\n",
    "        rep = tuple(sorted([n1, n2, n3]))\n",
    "        triangles.add(rep)\n",
    "total_triangles = len(triangles)\n",
    "print(f'There are {total_triangles} triangles in the overall graph')\n",
    "        "
   ]
  },
  {
   "cell_type": "code",
   "execution_count": 66,
   "metadata": {},
   "outputs": [
    {
     "name": "stdout",
     "output_type": "stream",
     "text": [
      "The largest clique we found was of size 13. It is comprised of:\n",
      "bm,bo,ee,fo,gt,hv,jv,kd,md,mu,nm,wx,xh\n"
     ]
    }
   ],
   "source": [
    "# \"build-out\" each triangle and then check if it forms a clique\n",
    "best = None\n",
    "max_len = 0\n",
    "\n",
    "for u, v, w in triangles:\n",
    "    shared  = get_shared_neighbors(u, v, w)\n",
    "    total = shared | {u, v, w}\n",
    "    if len(total) <= max_len:\n",
    "        continue\n",
    "    if check_clique(total, adj_list):\n",
    "        size = len(total)\n",
    "        if size > max_len:\n",
    "            best = total\n",
    "            max_len = size\n",
    "\n",
    "ans = list(best)\n",
    "ans.sort()\n",
    "print(f'The largest clique we found was of size {max_len}. It is comprised of:')\n",
    "print(','.join(ans))"
   ]
  },
  {
   "cell_type": "code",
   "execution_count": null,
   "metadata": {},
   "outputs": [],
   "source": []
  }
 ],
 "metadata": {
  "kernelspec": {
   "display_name": "coding_problem_env",
   "language": "python",
   "name": "python3"
  },
  "language_info": {
   "codemirror_mode": {
    "name": "ipython",
    "version": 3
   },
   "file_extension": ".py",
   "mimetype": "text/x-python",
   "name": "python",
   "nbconvert_exporter": "python",
   "pygments_lexer": "ipython3",
   "version": "3.12.2"
  }
 },
 "nbformat": 4,
 "nbformat_minor": 2
}
