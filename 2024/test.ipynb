{
 "cells": [
  {
   "cell_type": "code",
   "execution_count": null,
   "metadata": {},
   "outputs": [
    {
     "name": "stdout",
     "output_type": "stream",
     "text": [
      "goal is \n",
      "[1, 2, 13, 7, 9]\n",
      "[0, 5, 24, 4, 3]\n",
      "[10, 11, 8, 12, 14]\n",
      "[15, 11, 22, 17, 18]\n",
      "[20, 16, 21, 23, 19]\n"
     ]
    },
    {
     "name": "stderr",
     "output_type": "stream",
     "text": [
      "Exception ignored in: <bound method IPythonKernel._clean_thread_parent_frames of <ipykernel.ipkernel.IPythonKernel object at 0x1041162a0>>\n",
      "Traceback (most recent call last):\n",
      "  File \"/Users/connor/miniconda3/envs/coding_problem_env/lib/python3.12/site-packages/ipykernel/ipkernel.py\", line 775, in _clean_thread_parent_frames\n",
      "    def _clean_thread_parent_frames(\n",
      "\n",
      "KeyboardInterrupt: \n"
     ]
    }
   ],
   "source": [
    "def display(grid):\n",
    "    for row in grid:\n",
    "        print(row)\n",
    "from collections import deque\n",
    "def slide_puzzle(N, goal_grid):\n",
    "    \"\"\"\n",
    "    Moves the blank space to the right. If the blank space is on the right edge, it moves to the left.\n",
    "    \"\"\"\n",
    "    # want to get the sequence of moves to get to the given permutation \n",
    "    # here n^2 is the empty space\n",
    "    def tuplify(grid):\n",
    "        t = []\n",
    "        for row in grid:\n",
    "            for x in row:\n",
    "                t.append(x)\n",
    "        return tuple(t)\n",
    "    def construct_grid(tup, N):\n",
    "        grid = []\n",
    "        for i in range(N):\n",
    "            row = []\n",
    "            for j in range(N):\n",
    "                row.append(tup[i * N + j])\n",
    "            grid.append(row)\n",
    "        return grid\n",
    "    print('goal is ')\n",
    "    display(goal_grid)\n",
    "    goal = tuplify(goal_grid)\n",
    "    grid = [[i + N * j for i in range(N)] for j in range(N)]\n",
    "    \n",
    "    empty_square = (N - 1, N - 1)\n",
    "    directions = [(0, 1), (0, -1), (1, 0), (-1, 0)]\n",
    "    visited = set()\n",
    "    q = deque([(tuplify(grid), empty_square, [])])\n",
    "    while q:\n",
    "        tup_grid, empty_square, cur_moves = q.popleft()\n",
    "        grid = construct_grid(tup_grid, N)\n",
    "        #display(grid)\n",
    "        r, c = empty_square\n",
    "        if tup_grid in visited:\n",
    "            continue\n",
    "        visited.add(tup_grid)\n",
    "        if tup_grid == goal:\n",
    "            return cur_moves\n",
    "        for dr, dc in directions:\n",
    "            nr, nc = r + dr, c + dc\n",
    "            if 0 <= nr < N and 0 <= nc < N:\n",
    "                new_grid = construct_grid(tup_grid, N)\n",
    "                new_grid[nr][nc], new_grid[r][c] = grid[r][c], grid[nr][nc]\n",
    "                new_tup = tuplify(new_grid)\n",
    "                q.append([new_tup, (nr, nc), cur_moves + [(nr, nc)]])\n",
    "    print('infeasible')\n",
    "    return -1\n",
    "                \n",
    "        \n",
    "\n",
    "\n",
    "\n",
    "N = 4\n",
    "goal_grid = [[1, 2, 13, 7, 9], [0, 5, 24, 4, 3], [10, 11, 8, 12, 14], [15, 11, 22, 17, 18],[20, 16, 21, 23, 19]]\n",
    "\n",
    "\n",
    "moves = slide_puzzle(N, goal_grid)\n",
    "print(moves)\n",
    "\n",
    "    \n",
    "    "
   ]
  },
  {
   "cell_type": "code",
   "execution_count": null,
   "metadata": {},
   "outputs": [],
   "source": []
  }
 ],
 "metadata": {
  "kernelspec": {
   "display_name": "coding_problem_env",
   "language": "python",
   "name": "python3"
  },
  "language_info": {
   "codemirror_mode": {
    "name": "ipython",
    "version": 3
   },
   "file_extension": ".py",
   "mimetype": "text/x-python",
   "name": "python",
   "nbconvert_exporter": "python",
   "pygments_lexer": "ipython3",
   "version": "3.12.2"
  }
 },
 "nbformat": 4,
 "nbformat_minor": 2
}
